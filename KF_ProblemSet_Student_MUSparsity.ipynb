{
 "cells": [
  {
   "cell_type": "markdown",
   "metadata": {},
   "source": [
    "# Problem Set: Risk Measures with Stochastic Volatility Models\n",
    "\n",
    "## Introduction\n",
    "\n",
    "In this problem set, you will implement and compare two different approaches for estimating financial risk measures:\n",
    "\n",
    "1. Kalman Filter with Maximum Likelihood Estimation (MLE)\n",
    "2. EGARCH model\n",
    "\n",
    "You will use these methods to compute two important risk metrics:\n",
    "- Value-at-Risk (VaR)\n",
    "- Expected Shortfall (ES)\n",
    "\n",
    "\n",
    "## Learning Objectives\n",
    "\n",
    "- Understand how to implement a Kalman Filter for stochastic volatility models\n",
    "- Apply Maximum Likelihood Estimation (MLE) for parameter optimization\n",
    "- Compare the Kalman Filter approach with EGARCH models\n",
    "- Implement and interpret Value-at-Risk (VaR) and Expected Shortfall (ES)\n",
    "- Assess model performance using coverage ratio analysis\n",
    "\n",
    "## Requirements\n",
    "\n",
    "The following libraries are needed for this problem set:"
   ]
  },
  {
   "cell_type": "code",
   "metadata": {
    "ExecuteTime": {
     "end_time": "2025-06-12T10:47:45.377610Z",
     "start_time": "2025-06-12T10:47:45.370902Z"
    }
   },
   "source": [
    "# Import necessary libraries\n",
    "import numpy as np\n"
   ],
   "outputs": [],
   "execution_count": 2
  },
  {
   "cell_type": "markdown",
   "metadata": {},
   "source": [
    "## Part 1: Simulate Data from a Stochastic Volatility Model\n",
    "\n",
    "We'll start by generating simulated data from a stochastic volatility (SV) model. This will allow us to evaluate the performance of our estimation methods against known \"ground truth\" parameters.\n",
    "\n",
    "### Task 1.0 Model Specification\n",
    "\n",
    "Write down the data generating process (DGP) for the SV model we'll use here (use the notation from lecture):\n",
    "\n",
    "\n",
    "Define every symbol that shows up in the DGP:\n",
    "\n",
    "### Task 1.1: Simulate SV data\n",
    "\n",
    "Simulate data from an SV model that fullfils the following specifications:\n",
    "\n",
    "(a) set the seed to 1234\n",
    "\n",
    "(b) use a sample size of 2500\n",
    "\n",
    "(c) model parameters: 0.95 for volatility persistence; 0.2 for \"vol of vol\"; set the unconditional vol to 1.0. \n",
    "\n",
    "(d) initialize the very first element of the latent vol process with its unconditional distribution (see lecture)\n",
    "\n",
    "(e) plot the simulated return series"
   ]
  },
  {
   "cell_type": "code",
   "metadata": {
    "ExecuteTime": {
     "end_time": "2025-06-12T18:17:54.887723Z",
     "start_time": "2025-06-12T18:17:54.339066Z"
    }
   },
   "source": [
    "import matplotlib.pyplot as plt\n",
    "\n",
    "# Plot the simulated returns\n",
    "plt.figure(figsize=(14, 6))\n",
    "plt.plot(r)\n",
    "plt.title('Simulated Returns from SV Model')\n",
    "plt.xlabel('Time')\n",
    "plt.ylabel('Returns')\n",
    "plt.grid(True)\n",
    "plt.show()"
   ],
   "outputs": [
    {
     "ename": "NameError",
     "evalue": "name 'r' is not defined",
     "output_type": "error",
     "traceback": [
      "\u001B[31m---------------------------------------------------------------------------\u001B[39m",
      "\u001B[31mNameError\u001B[39m                                 Traceback (most recent call last)",
      "\u001B[36mCell\u001B[39m\u001B[36m \u001B[39m\u001B[32mIn[1]\u001B[39m\u001B[32m, line 5\u001B[39m\n\u001B[32m      3\u001B[39m \u001B[38;5;66;03m# Plot the simulated returns\u001B[39;00m\n\u001B[32m      4\u001B[39m plt.figure(figsize=(\u001B[32m14\u001B[39m, \u001B[32m6\u001B[39m))\n\u001B[32m----> \u001B[39m\u001B[32m5\u001B[39m plt.plot(\u001B[43mr\u001B[49m)\n\u001B[32m      6\u001B[39m plt.title(\u001B[33m'\u001B[39m\u001B[33mSimulated Returns from SV Model\u001B[39m\u001B[33m'\u001B[39m)\n\u001B[32m      7\u001B[39m plt.xlabel(\u001B[33m'\u001B[39m\u001B[33mTime\u001B[39m\u001B[33m'\u001B[39m)\n",
      "\u001B[31mNameError\u001B[39m: name 'r' is not defined"
     ]
    },
    {
     "data": {
      "text/plain": [
       "<Figure size 1400x600 with 0 Axes>"
      ]
     },
     "metadata": {},
     "output_type": "display_data"
    }
   ],
   "execution_count": 1
  },
  {
   "cell_type": "markdown",
   "metadata": {},
   "source": [
    "## Part 2: Kalman Filter Implementation\n",
    "\n",
    "To estimate the SV model, we need to linearize it first using the Harvey Transform.\n",
    "\n",
    "### Task 2.0 The Harvey Transform\n",
    "\n",
    "Explain step by step the Harvey transform and state the transformed DGP (see lecture).\n",
    "\n",
    "### Task 2.1: Implement the Kalman Filter\n",
    "\n",
    "Implement the Kalman filter estimation routine using the following specification:\n",
    "\n",
    "(a) function is called kalman_filter. its input is (y, a, B, Phi, H, Q, a1, P1, return_loglike=False) (notation follows lecture). its output is the negative log-likelihood if return_loglike=True and the time series for [posterior mean, posterior variance, prior mean, prior variance] if return_loglike=False. \n",
    "\n"
   ]
  },
  {
   "cell_type": "code",
   "metadata": {
    "ExecuteTime": {
     "end_time": "2025-06-12T18:18:03.181097Z",
     "start_time": "2025-06-12T18:18:03.178144Z"
    }
   },
   "source": [
    "def kalman_filter(y, a, B, Phi, H, Q, a1, P1, return_loglike=False):\n",
    "    T = len(y)\n",
    "\n",
    "    # Initialize\n",
    "    filtered_means = np.zeros(T)\n",
    "    filtered_vars = np.zeros(T)\n",
    "    prior_means = np.zeros(T)\n",
    "    prior_vars = np.zeros(T)\n",
    "\n",
    "    pred_mean = a1\n",
    "    pred_var = P1\n",
    "    loglike = 0\n",
    "\n",
    "    for t in range(T):\n",
    "        # Kalman gain\n",
    "        K = pred_var * B / (B * pred_var * B + H)\n",
    "\n",
    "        # Prediction error\n",
    "        v = y[t] - (a + B * pred_mean)\n",
    "\n",
    "        # Update posterior\n",
    "        updated_mean = pred_mean + K * v\n",
    "        updated_var = (1 - K * B) * pred_var\n",
    "\n",
    "        # Store\n",
    "        filtered_means[t] = updated_mean\n",
    "        filtered_vars[t] = updated_var\n",
    "        prior_means[t] = pred_mean\n",
    "        prior_vars[t] = pred_var\n",
    "\n",
    "        # Log-likelihood contribution\n",
    "        if return_loglike:\n",
    "            F_t = B * pred_var * B + H\n",
    "            loglike += 0.5 * (np.log(2 * np.pi) + np.log(F_t) + (v**2) / F_t)\n",
    "\n",
    "        # Predict next state\n",
    "        pred_mean = a + Phi * updated_mean\n",
    "        pred_var = Phi * updated_var * Phi + Q\n",
    "\n",
    "    if return_loglike:\n",
    "        return loglike\n",
    "    else:\n",
    "        return filtered_means, filtered_vars, prior_means, prior_vars\n"
   ],
   "outputs": [],
   "execution_count": 3
  }
 ],
 "metadata": {
  "kernelspec": {
   "display_name": "Python 3 (ipykernel)",
   "language": "python",
   "name": "python3"
  },
  "language_info": {
   "codemirror_mode": {
    "name": "ipython",
    "version": 3
   },
   "file_extension": ".py",
   "mimetype": "text/x-python",
   "name": "python",
   "nbconvert_exporter": "python",
   "pygments_lexer": "ipython3",
   "version": "3.12.7"
  }
 },
 "nbformat": 4,
 "nbformat_minor": 4
}
