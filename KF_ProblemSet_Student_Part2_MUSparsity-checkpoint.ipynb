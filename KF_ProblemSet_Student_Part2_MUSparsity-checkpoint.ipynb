{
 "cells": [
  {
   "cell_type": "markdown",
   "metadata": {},
   "source": [
    "\n",
    "\n",
    "### Task 3.1: Implement MLE Objective Function\n",
    "\n",
    "Program the objective function for Maximum Likelihood Estimation of the linearized SV model. \n",
    "\n",
    "Include the following:\n",
    "\n",
    "(a) the function's name is kalman_filter_objfcn. \n",
    "\n",
    "(b) Its input consists of an array with model parameters and the observed return time series.\n",
    "\n",
    "(c) Its output is the negative log-likelihood of the observed returns given the parameters"
   ]
  },
  {
   "cell_type": "markdown",
   "metadata": {},
   "source": [
    "### Task 3.2: Optimize the Parameters using MLE\n",
    "\n",
    "Use numerical optimization to find the parameters that maximize the likelihood (or minimize the negative log-likelihood):\n",
    "\n",
    "Work with the following specification:\n",
    "\n",
    "(a) initial parameter guess for $[\\phi, \\sigma_{\\eta}, \\bar{\\sigma}] = [0.9, 0.3, 1.2]$\n",
    "\n",
    "(b) parameter bounds: $[(0.001, 0.999), (1e-6, None), (1e-6, None)]$ for $[\\phi, \\sigma_{\\eta}, \\bar{\\sigma}]$.\n",
    "\n",
    "Print the estimated and \"true\" parameters. Interpret results."
   ]
  },
  {
   "cell_type": "code",
   "metadata": {
    "ExecuteTime": {
     "end_time": "2025-06-12T18:59:56.628418Z",
     "start_time": "2025-06-12T18:59:56.625094Z"
    }
   },
   "source": [
    "def kalman_filter_objfcn(theta, y):\n",
    "    phi, sigma_eta = theta\n",
    "    a = -1.2704\n",
    "    B = 1.0\n",
    "    H = np.pi**2 / 2\n",
    "    Q = sigma_eta ** 2\n",
    "    a1 = 0.0\n",
    "    P1 = Q / (1 - phi**2) if abs(phi) < 1 else 1.0\n",
    "\n",
    "    return kalman_filter(y, a, B, phi, H, Q, a1, P1, return_loglike=True)"
   ],
   "outputs": [],
   "execution_count": 2
  },
  {
   "cell_type": "markdown",
   "metadata": {},
   "source": [
    "### Task 3.3: Run Kalman Filter with Estimated Parameters to get \"filtered\" time series of log-volatility\n",
    "\n",
    "Now use the estimated parameters to run the Kalman Filter and get the filtered estimates of the log-volatility.\n",
    "\n",
    "Show a plot that contrasts the true (simulated) log-volatility time-serie with the estimated log- volatility time series. "
   ]
  },
  {
   "cell_type": "markdown",
   "metadata": {},
   "source": [
    "## Part 4 EGARCH\n",
    "An alternative to the SVM is the GARCH. An EGARCH allows to capture skewness. Work with a python package.\n",
    "\n",
    "### Task 4.0: Fitting EGARCH(1,1)\n",
    "\n",
    "Use a python package to fit an EGARCH(1,1) to the simulated return time series.\n",
    "\n",
    "Display the model estimates and model summary."
   ]
  },
  {
   "cell_type": "markdown",
   "metadata": {},
   "source": [
    "## Part 5: Computing Value-at-Risk (VaR) and Expected Shortfall (ES)\n",
    "\n",
    "Now we'll compute Value-at-Risk (VaR) and Expected Shortfall (ES) using our volatility estimates.\n",
    "\n",
    "For a normal distribution with zero mean and time-varying volatility:\n",
    "\n",
    "* VaR$_\\alpha(t) = z_\\alpha \\times \\sigma_t$ where $z_\\alpha$ is the $\\alpha$-quantile of the standard normal distribution\n",
    "* ES$_\\alpha(t) = -\\sigma_t \\times \\frac{\\phi(z_\\alpha)}{\\alpha}$ where $\\phi(z)$ is the PDF of the standard normal distribution\n",
    "\n",
    "### Task 5.1: Implement VaR and ES Function\n",
    "\n",
    "Write a function to compute VaR and ES. Work with the following specification:\n",
    "\n",
    "(a) function name: VaR_ES\n",
    "\n",
    "(b) input to function: time series of return volatilities (standard deviations), the $\\alpha$-quantile which by default shall be 5\\%\n",
    "\n",
    "(c) output to function: time series of respective VaR and ES."
   ]
  },
  {
   "cell_type": "markdown",
   "metadata": {},
   "source": [
    "### Task 5.2: Calculate VaR and ES for Both Models\n",
    "\n",
    "Compute the VaR and ES measures using both our Kalman Filter and EGARCH estimates.\n",
    "\n",
    "Work with:\n",
    "\n",
    "(a) $\\alpha = 5\\%$"
   ]
  },
  {
   "cell_type": "markdown",
   "metadata": {},
   "source": [
    "## Part 6: Evaluate Model Performance\n",
    "\n",
    "### Task 6.1: Implement Coverage Ratio Function\n",
    "\n",
    "Complete the function to calculate the coverage ratio:"
   ]
  },
  {
   "cell_type": "code",
   "metadata": {
    "ExecuteTime": {
     "end_time": "2025-06-12T10:59:07.865748Z",
     "start_time": "2025-06-12T10:59:07.862506Z"
    }
   },
   "source": [
    "def coverage_ratio(returns, var_array):\n",
    "    \"\"\"\n",
    "    Fraction of times r_t < VaR_t.\n",
    "    Expect coverage ~ alpha if VaR_t is the alpha-quantile (negative).\n",
    "    \n",
    "    Parameters\n",
    "    ----------\n",
    "    returns : array-like\n",
    "        Time series of returns\n",
    "    var_array : array-like\n",
    "        Time series of Value-at-Risk estimates (negative for left tail)\n",
    "        \n",
    "    Returns\n",
    "    -------\n",
    "    float\n",
    "        Fraction of times returns exceeded VaR\n",
    "    \"\"\"\n",
    "    returns = np.asarray(returns)\n",
    "    var_array = np.asarray(var_array)\n",
    "\n",
    "    violations = returns < var_array\n",
    "    coverage = np.mean(violations)\n",
    "    return # Your coverage ratio"
   ],
   "outputs": [],
   "execution_count": 1
  },
  {
   "cell_type": "markdown",
   "metadata": {},
   "source": [
    "### Task 6.2: Calculate and Compare Coverage Ratios"
   ]
  },
  {
   "cell_type": "code",
   "metadata": {
    "ExecuteTime": {
     "end_time": "2025-06-13T09:00:03.141440Z",
     "start_time": "2025-06-13T09:00:01.809498Z"
    }
   },
   "source": [
    "# TODO: Calculate coverage ratios for both approaches\n",
    "import numpy as np\n",
    "from scipy.stats import norm\n",
    "from arch import arch_model\n",
    "from KalmanFilterAlgorithm import kalman_filter\n",
    "from MLE import kalman_filter_objfcn\n",
    "from scipy.optimize import minimize\n",
    "from coverage_ratio import coverage_ratio\n",
    "\n",
    "# Fix seed for our test-case\n",
    "np.random.seed(1234)\n",
    "T = 2500\n",
    "\n",
    "# Define SV parameters\n",
    "volatility_persistence= 0.95\n",
    "vol_vol = 0.2\n",
    "vol = - (vol_vol ** 2) / (2 * (1 - volatility_persistence ** 2))\n",
    "\n",
    "# Array for hidden volatility values (log-volatility)\n",
    "h_true = np.zeros(T)\n",
    "\n",
    "# Start from the stationary distribution of the AR(1)\n",
    "h_true[0] = np.random.normal(loc=vol, scale=vol_vol / np.sqrt(1 - volatility_persistence ** 2))\n",
    "\n",
    "for t in range(1, T):\n",
    "    h_true[t] = vol + volatility_persistence * h_true[t - 1] + np.random.normal(0, vol_vol)\n",
    "\n",
    "# Returns (mean zero)\n",
    "\n",
    "xi = np.random.normal(0, 1, T)\n",
    "r = np.exp(0.5 * h_true) * xi\n",
    "\n",
    "# Convert returns with log\n",
    "log_squared_returns = np.log(r**2 + 1e-6)\n",
    "\n",
    "# Define Parameters for the Kalman Filter\n",
    "a = 0\n",
    "B = 1.0\n",
    "H = 0.2\n",
    "\n",
    "c = 0\n",
    "Q = vol_vol ** 2\n",
    "\n",
    "initial_state_mean = 0\n",
    "initial_state_var = 1\n",
    "\n",
    "# Call Kalman Filter\n",
    "filtered_means, filtered_vars, _, _ = kalman_filter(log_squared_returns, a, B, volatility_persistence, H, Q,\n",
    "                                                    initial_state_mean, initial_state_var)\n",
    "\n",
    "\n",
    "# Minimize log_likelihood Function\n",
    "phi = 0.9\n",
    "sigma_eta = 0.3\n",
    "sigma = 1.2\n",
    "initial_guess = [0.9, 0.3]\n",
    "bounds = [(0.001, 0.999), (1e-6, None)]\n",
    "\n",
    "# Optimize Parameters (theta_hat optimized parameters)\n",
    "optimized_parameters = minimize(kalman_filter_objfcn, initial_guess, args=(log_squared_returns,), method='L-BFGS-B',\n",
    "                                bounds=bounds)\n",
    "theta_hat = optimized_parameters.x\n",
    "\n",
    "\n",
    "# Call Kalman Filter with estimated parameters\n",
    "phi_hat, sigma_eta_hat = theta_hat\n",
    "a_hat = -1.27\n",
    "c_hat = 0.0\n",
    "H_hat = np.pi ** 2 / 2\n",
    "Q_hat = sigma_eta_hat**2\n",
    "filtered_means_mle, filtered_vars_mle, _, _ = kalman_filter(log_squared_returns, a_hat, B, phi_hat, H_hat, Q_hat,\n",
    "                                                      initial_state_mean, initial_state_var)\n",
    "\n",
    "\n",
    "# Fit EGARCH(1,1) Model to the normal returns (not the log-squared ones)\n",
    "model = arch_model(r, vol='EGARCH', p=1, q=1, dist='normal')\n",
    "res = model.fit(disp='off')\n",
    "\n",
    "# Define conditional volatility estimates\n",
    "egarch_volatility = res.conditional_volatility\n",
    "\n",
    "# Convert to log_volatility to fit the returns\n",
    "egarch_log_volatility = np.log(egarch_volatility ** 2)\n",
    "\n",
    "# Convert volatility estimates for Kalman(MLE) and EGARCH\n",
    "kalman_sigma = np.exp(0.5 * filtered_means_mle)\n",
    "\n",
    "# VaR and ES Parameters\n",
    "alpha = 0.01\n",
    "z_alpha = norm.ppf(alpha)\n",
    "phi_z = norm.pdf(z_alpha)\n",
    "\n",
    "# VaR and ES for Kalman approach\n",
    "VaR_kalman = z_alpha * kalman_sigma\n",
    "ES_kalman = - (phi_z / alpha) * kalman_sigma\n",
    "\n",
    "# VaR and ES for EGARCH approach\n",
    "VaR_egarch = z_alpha * egarch_volatility\n",
    "ES_egarch = - (phi_z / alpha) * egarch_volatility\n",
    "\n",
    "# Compute coverage ratios\n",
    "coverage_kalman = coverage_ratio(r, VaR_kalman)\n",
    "coverage_egarch = coverage_ratio(r, VaR_egarch)\n",
    "\n",
    "# Print results\n",
    "print(\"EGARCH(1,1) parameter estimates:\\n\", res.params)\n",
    "print(f\"\\nKF VaR coverage = {100*coverage_kalman:.2f}% (expected {alpha*100}%)\")\n",
    "print(f\"EGARCH VaR coverage = {100*coverage_egarch:.2f}% (expected {alpha*100}%)\")"
   ],
   "outputs": [
    {
     "name": "stdout",
     "output_type": "stream",
     "text": [
      "EGARCH(1,1) parameter estimates:\n",
      " mu          0.001036\n",
      "omega      -0.288070\n",
      "alpha[1]    0.225349\n",
      "beta[1]     0.924612\n",
      "Name: params, dtype: float64\n",
      "\n",
      "KF VaR coverage = 0.72% (expected 1.0%)\n",
      "EGARCH VaR coverage = 0.80% (expected 1.0%)\n"
     ]
    },
    {
     "name": "stderr",
     "output_type": "stream",
     "text": [
      "/Users/germanroberto/PycharmProjects/BibReservation/.venv1/lib/python3.13/site-packages/arch/univariate/base.py:309: DataScaleWarning: y is poorly scaled, which may affect convergence of the optimizer when\n",
      "estimating the model parameters. The scale of y is 0.02531. Parameter\n",
      "estimation work better when this value is between 1 and 1000. The recommended\n",
      "rescaling is 10 * y.\n",
      "\n",
      "This warning can be disabled by either rescaling y before initializing the\n",
      "model or by setting rescale=False.\n",
      "\n",
      "  warnings.warn(\n"
     ]
    }
   ],
   "execution_count": 1
  },
  {
   "cell_type": "markdown",
   "metadata": {},
   "source": [
    "## Part 7: Visualize Results\n",
    "\n",
    "### Task 7.1: Create Comparative Plots\n",
    "\n",
    "Create plots to visualize and compare the results:"
   ]
  },
  {
   "cell_type": "code",
   "execution_count": null,
   "metadata": {},
   "outputs": [],
   "source": [
    "plt.figure(figsize=(16, 15))\n",
    "\n",
    "# TODO: Plot 1: Compare log-volatility estimates\n",
    "# Your code here\n",
    "\n",
    "# TODO: Plot 2: Returns vs. KF VaR and ES\n",
    "# Your code here\n",
    "\n",
    "# TODO: Plot 3: Returns vs. EGARCH VaR and ES\n",
    "# Your code here\n",
    "\n",
    "plt.tight_layout()\n",
    "plt.show()"
   ]
  },
  {
   "cell_type": "markdown",
   "metadata": {},
   "source": [
    "## Conclusion\n",
    "\n",
    "In this problem set, you've implemented and compared two different approaches for estimating financial risk measures. You've learned how to:\n",
    "\n",
    "1. Implement a Kalman Filter for stochastic volatility models\n",
    "2. Use Maximum Likelihood Estimation for parameter optimization\n",
    "3. Compute and interpret Value-at-Risk (VaR) and Expected Shortfall (ES)\n",
    "4. Compare the performance of different volatility models"
   ]
  }
 ],
 "metadata": {
  "kernelspec": {
   "display_name": "Python 3 (ipykernel)",
   "language": "python",
   "name": "python3"
  },
  "language_info": {
   "codemirror_mode": {
    "name": "ipython",
    "version": 3
   },
   "file_extension": ".py",
   "mimetype": "text/x-python",
   "name": "python",
   "nbconvert_exporter": "python",
   "pygments_lexer": "ipython3",
   "version": "3.12.7"
  }
 },
 "nbformat": 4,
 "nbformat_minor": 4
}
